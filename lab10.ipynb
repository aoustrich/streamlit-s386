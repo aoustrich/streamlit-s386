{
 "cells": [
  {
   "cell_type": "code",
   "execution_count": 2,
   "metadata": {},
   "outputs": [],
   "source": [
    "import pandas as pd\n",
    "import streamlit as st\n",
    "import plotly.express as px\n",
    "import ssl\n",
    "ssl._create_default_https_context = ssl._create_unverified_context\n",
    "\n",
    "url = 'https://github.com/esnt/Data/raw/main/Names/popular_names.csv'\n",
    "df = pd.read_csv(url)"
   ]
  },
  {
   "cell_type": "code",
   "execution_count": 3,
   "metadata": {},
   "outputs": [
    {
     "name": "stderr",
     "output_type": "stream",
     "text": [
      "2023-11-27 19:05:44.806 \n",
      "  \u001b[33m\u001b[1mWarning:\u001b[0m to view this Streamlit app on a browser, run it with the following\n",
      "  command:\n",
      "\n",
      "    streamlit run /Users/aaronoustrich/Library/Python/3.11/lib/python/site-packages/ipykernel_launcher.py [ARGUMENTS]\n"
     ]
    },
    {
     "data": {
      "text/plain": [
       "DeltaGenerator()"
      ]
     },
     "execution_count": 3,
     "metadata": {},
     "output_type": "execute_result"
    }
   ],
   "source": [
    "st.title('Popular Names')\n",
    "\n",
    "st.header('Name Trend')\n",
    "selected_name = st.text_input('Enter a name to plot', 'John')\n",
    "name_df = df[df['name'] == selected_name]\n",
    "if name_df.empty:\n",
    "    st.write('Name not found')\n",
    "else:\n",
    "    fig = px.line(name_df, x='year', y='n', color='sex',\n",
    "                  color_discrete_sequence=px.colors.qualitative.Set2)\n",
    "    st.plotly_chart(fig)\n",
    "\n",
    "st.header('Popular Names by Year')\n",
    "year = st.slider('Select Year', 1910, 2021, 2000)\n",
    "\n",
    "year_df = df[df['year'] == year]\n",
    "\n",
    "girls_names = year_df[year_df.sex=='F'].sort_values('n', ascending=False).head(5)['name']\n",
    "boys_names = year_df[year_df.sex=='M'].sort_values('n', ascending=False).head(5)['name']\n",
    "\n",
    "top_names = pd.concat([girls_names.reset_index(drop=True), boys_names.reset_index(drop=True)], \n",
    "          ignore_index=True, axis=1)\n",
    "top_names.columns = ['Girls','Boys']\n",
    "\n",
    "st.write(f\"Top Names in {year}\")\n",
    "\n",
    "st.dataframe(top_names)"
   ]
  }
 ],
 "metadata": {
  "kernelspec": {
   "display_name": "Python 3",
   "language": "python",
   "name": "python3"
  },
  "language_info": {
   "codemirror_mode": {
    "name": "ipython",
    "version": 3
   },
   "file_extension": ".py",
   "mimetype": "text/x-python",
   "name": "python",
   "nbconvert_exporter": "python",
   "pygments_lexer": "ipython3",
   "version": "3.11.0"
  }
 },
 "nbformat": 4,
 "nbformat_minor": 2
}
